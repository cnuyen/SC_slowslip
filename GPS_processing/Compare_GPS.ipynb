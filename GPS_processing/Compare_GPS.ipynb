{
 "cells": [
  {
   "cell_type": "markdown",
   "metadata": {},
   "source": [
    "# Compare Original and Cleaned GPS Timeseries\n",
    "\n",
    "This code compares the processed GPS time series data with the original data to evaluate the success of the cleaning process carried out in GPS_cleaning.ipynb."
   ]
  },
  {
   "cell_type": "code",
   "execution_count": 26,
   "metadata": {},
   "outputs": [],
   "source": [
    "import glob\n",
    "import pandas as pd\n",
    "import matplotlib.pyplot as plt\n",
    "from IPython.display import clear_output"
   ]
  },
  {
   "cell_type": "code",
   "execution_count": 27,
   "metadata": {},
   "outputs": [],
   "source": [
    "file_names = glob.glob('????')"
   ]
  },
  {
   "cell_type": "code",
   "execution_count": 55,
   "metadata": {},
   "outputs": [],
   "source": [
    "for file in file_names:\n",
    "\n",
    "    original_GPS = pd.read_csv(file, delim_whitespace = True, names=['Date','N','E','U','sN','sE','sU'])\n",
    "    original_GPS['Date'] = pd.to_datetime(original_GPS['Date'], format='%Y%m%d')\n",
    "    cleaned_GPS = pd.read_csv(file + '_cleaned.txt', delim_whitespace = True,names=['Date','tmp','N','E','U','sN','sE','sU'] )\n",
    "    cleaned_GPS.drop(columns = 'tmp', inplace = True)\n",
    "    cleaned_GPS['Date'] = pd.to_datetime(cleaned_GPS['Date'])\n",
    "    \n",
    "    fig, ax = plt.subplots(2,1, figsize = (20,10))\n",
    "    axe = ax.ravel()\n",
    "    original_GPS.plot.line(x='Date', y='N', ax = axe[0], label = 'Original N', title = file)\n",
    "    cleaned_GPS.plot.line(x='Date', y='N', ax = axe[0], label = 'Cleaned N', secondary_y = True)\n",
    "    original_GPS.plot.line(x='Date', y='E', ax = axe[1], label = 'Original E')\n",
    "    cleaned_GPS.plot.line(x='Date', y='E', ax = axe[1], label = 'Cleaned E', secondary_y = True)\n",
    "    \n",
    "    \n",
    "    plt.show()\n",
    "    input(\"Enter\")\n",
    "    \n",
    "    clear_output()\n",
    "    "
   ]
  }
 ],
 "metadata": {
  "kernelspec": {
   "display_name": "Python 3",
   "language": "python",
   "name": "python3"
  },
  "language_info": {
   "codemirror_mode": {
    "name": "ipython",
    "version": 3
   },
   "file_extension": ".py",
   "mimetype": "text/x-python",
   "name": "python",
   "nbconvert_exporter": "python",
   "pygments_lexer": "ipython3",
   "version": "3.8.5"
  }
 },
 "nbformat": 4,
 "nbformat_minor": 4
}
